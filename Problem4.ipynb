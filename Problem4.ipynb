{
  "nbformat": 4,
  "nbformat_minor": 0,
  "metadata": {
    "colab": {
      "name": "Problem4.ipynb",
      "provenance": [],
      "collapsed_sections": [
        "uv2LJLP1l8aJ"
      ],
      "include_colab_link": true
    },
    "kernelspec": {
      "name": "python3",
      "display_name": "Python 3"
    },
    "accelerator": "GPU"
  },
  "cells": [
    {
      "cell_type": "markdown",
      "metadata": {
        "id": "view-in-github",
        "colab_type": "text"
      },
      "source": [
        "<a href=\"https://colab.research.google.com/github/shahhassansh/UCF_CAP5610_ML_Assignments/blob/master/Problem4.ipynb\" target=\"_parent\"><img src=\"https://colab.research.google.com/assets/colab-badge.svg\" alt=\"Open In Colab\"/></a>"
      ]
    },
    {
      "cell_type": "markdown",
      "metadata": {
        "id": "uv2LJLP1l8aJ",
        "colab_type": "text"
      },
      "source": [
        "##**Problem 4**"
      ]
    },
    {
      "cell_type": "markdown",
      "metadata": {
        "id": "Q1_KyQTamHuJ",
        "colab_type": "text"
      },
      "source": [
        "###**Importing Libraries**"
      ]
    },
    {
      "cell_type": "code",
      "metadata": {
        "id": "FSJyddqGexl5",
        "colab_type": "code",
        "outputId": "f4c78410-2cdd-45a9-8e2c-d0dc64d7a78e",
        "colab": {
          "base_uri": "https://localhost:8080/",
          "height": 34
        }
      },
      "source": [
        "from keras.datasets import mnist\n",
        "from keras.utils import to_categorical\n",
        "from keras import models\n",
        "from keras import layers\n",
        "import numpy as np"
      ],
      "execution_count": 0,
      "outputs": [
        {
          "output_type": "stream",
          "text": [
            "Using TensorFlow backend.\n"
          ],
          "name": "stderr"
        }
      ]
    },
    {
      "cell_type": "markdown",
      "metadata": {
        "id": "Inx_UfJbmFRN",
        "colab_type": "text"
      },
      "source": [
        "###**Loading Data**"
      ]
    },
    {
      "cell_type": "code",
      "metadata": {
        "id": "909IUI46mFrB",
        "colab_type": "code",
        "outputId": "7c99ce92-ceda-4e40-9ba7-94ca4ad3d1b1",
        "colab": {
          "base_uri": "https://localhost:8080/",
          "height": 51
        }
      },
      "source": [
        "(train_images_raw, train_labels_raw), (test_images_raw, test_labels_raw) = mnist.load_data()"
      ],
      "execution_count": 0,
      "outputs": [
        {
          "output_type": "stream",
          "text": [
            "Downloading data from https://s3.amazonaws.com/img-datasets/mnist.npz\n",
            "11493376/11490434 [==============================] - 0s 0us/step\n"
          ],
          "name": "stdout"
        }
      ]
    },
    {
      "cell_type": "markdown",
      "metadata": {
        "id": "QCf6RnQQmSSq",
        "colab_type": "text"
      },
      "source": [
        "###**Image Reshaping and Normalization**"
      ]
    },
    {
      "cell_type": "code",
      "metadata": {
        "id": "UB7_xf0hzsPx",
        "colab_type": "code",
        "colab": {}
      },
      "source": [
        "train_images = train_images_raw.reshape((60000, 28 * 28))\n",
        "train_images = train_images.astype('float32') / 255\n",
        "\n",
        "test_images = test_images_raw.reshape((10000, 28 * 28))\n",
        "test_images = test_images.astype('float32') / 255"
      ],
      "execution_count": 0,
      "outputs": []
    },
    {
      "cell_type": "markdown",
      "metadata": {
        "id": "Z_skLmK_mZfg",
        "colab_type": "text"
      },
      "source": [
        "###**Categorizing Labels**"
      ]
    },
    {
      "cell_type": "code",
      "metadata": {
        "id": "C1ulkKRPSgJP",
        "colab_type": "code",
        "colab": {}
      },
      "source": [
        "train_labels = to_categorical(train_labels_raw)\n",
        "test_labels = to_categorical(test_labels_raw)"
      ],
      "execution_count": 0,
      "outputs": []
    },
    {
      "cell_type": "markdown",
      "metadata": {
        "id": "mBpAd4YOmkoG",
        "colab_type": "text"
      },
      "source": [
        "###**Network Definition**"
      ]
    },
    {
      "cell_type": "code",
      "metadata": {
        "id": "J1ggKa17T2s5",
        "colab_type": "code",
        "colab": {}
      },
      "source": [
        "network = models.Sequential()\n",
        "network.add(layers.Dense(10, activation='softmax'))"
      ],
      "execution_count": 0,
      "outputs": []
    },
    {
      "cell_type": "markdown",
      "metadata": {
        "id": "c8e9QNd5moi_",
        "colab_type": "text"
      },
      "source": [
        "###**Network Compilation**"
      ]
    },
    {
      "cell_type": "code",
      "metadata": {
        "id": "mHp0sz7cYPsK",
        "colab_type": "code",
        "outputId": "51997da4-9172-4e32-a130-3d256549ec2f",
        "colab": {
          "base_uri": "https://localhost:8080/",
          "height": 88
        }
      },
      "source": [
        "network.compile(optimizer='Adam',loss='categorical_crossentropy', metrics=['accuracy'])"
      ],
      "execution_count": 0,
      "outputs": [
        {
          "output_type": "stream",
          "text": [
            "WARNING:tensorflow:From /usr/local/lib/python3.6/dist-packages/tensorflow/python/framework/op_def_library.py:263: colocate_with (from tensorflow.python.framework.ops) is deprecated and will be removed in a future version.\n",
            "Instructions for updating:\n",
            "Colocations handled automatically by placer.\n"
          ],
          "name": "stdout"
        }
      ]
    },
    {
      "cell_type": "markdown",
      "metadata": {
        "id": "Uds-THpomvyj",
        "colab_type": "text"
      },
      "source": [
        "###** Training**"
      ]
    },
    {
      "cell_type": "code",
      "metadata": {
        "id": "2YuVq3JIZksS",
        "colab_type": "code",
        "outputId": "5b14b19e-9241-4f5b-86ec-2487d05c9a86",
        "colab": {
          "base_uri": "https://localhost:8080/",
          "height": 3658
        }
      },
      "source": [
        "epochs = 100\n",
        "history = network.fit(train_images, \n",
        "                      train_labels, \n",
        "                      epochs=epochs, \n",
        "                      batch_size=128, \n",
        "                      validation_data=(test_images, test_labels))\n",
        "network.summary()"
      ],
      "execution_count": 0,
      "outputs": [
        {
          "output_type": "stream",
          "text": [
            "WARNING:tensorflow:From /usr/local/lib/python3.6/dist-packages/tensorflow/python/ops/math_ops.py:3066: to_int32 (from tensorflow.python.ops.math_ops) is deprecated and will be removed in a future version.\n",
            "Instructions for updating:\n",
            "Use tf.cast instead.\n",
            "Train on 60000 samples, validate on 10000 samples\n",
            "Epoch 1/100\n",
            "60000/60000 [==============================] - 5s 81us/step - loss: 0.6890 - acc: 0.8270 - val_loss: 0.3856 - val_acc: 0.9022\n",
            "Epoch 2/100\n",
            "60000/60000 [==============================] - 2s 30us/step - loss: 0.3633 - acc: 0.9022 - val_loss: 0.3195 - val_acc: 0.9123\n",
            "Epoch 3/100\n",
            "60000/60000 [==============================] - 2s 30us/step - loss: 0.3198 - acc: 0.9117 - val_loss: 0.2978 - val_acc: 0.9172\n",
            "Epoch 4/100\n",
            "60000/60000 [==============================] - 2s 30us/step - loss: 0.3002 - acc: 0.9166 - val_loss: 0.2844 - val_acc: 0.9212\n",
            "Epoch 5/100\n",
            "60000/60000 [==============================] - 2s 30us/step - loss: 0.2883 - acc: 0.9194 - val_loss: 0.2775 - val_acc: 0.9231\n",
            "Epoch 6/100\n",
            "60000/60000 [==============================] - 2s 30us/step - loss: 0.2797 - acc: 0.9222 - val_loss: 0.2749 - val_acc: 0.9229\n",
            "Epoch 7/100\n",
            "60000/60000 [==============================] - 2s 30us/step - loss: 0.2739 - acc: 0.9233 - val_loss: 0.2734 - val_acc: 0.9249\n",
            "Epoch 8/100\n",
            "60000/60000 [==============================] - 2s 30us/step - loss: 0.2694 - acc: 0.9245 - val_loss: 0.2700 - val_acc: 0.9252\n",
            "Epoch 9/100\n",
            "60000/60000 [==============================] - 2s 30us/step - loss: 0.2655 - acc: 0.9260 - val_loss: 0.2675 - val_acc: 0.9270\n",
            "Epoch 10/100\n",
            "60000/60000 [==============================] - 2s 30us/step - loss: 0.2622 - acc: 0.9267 - val_loss: 0.2658 - val_acc: 0.9266\n",
            "Epoch 11/100\n",
            "60000/60000 [==============================] - 2s 30us/step - loss: 0.2595 - acc: 0.9272 - val_loss: 0.2646 - val_acc: 0.9271\n",
            "Epoch 12/100\n",
            "60000/60000 [==============================] - 2s 30us/step - loss: 0.2572 - acc: 0.9286 - val_loss: 0.2643 - val_acc: 0.9267\n",
            "Epoch 13/100\n",
            "60000/60000 [==============================] - 2s 31us/step - loss: 0.2551 - acc: 0.9293 - val_loss: 0.2634 - val_acc: 0.9268\n",
            "Epoch 14/100\n",
            "60000/60000 [==============================] - 2s 30us/step - loss: 0.2533 - acc: 0.9304 - val_loss: 0.2635 - val_acc: 0.9277\n",
            "Epoch 15/100\n",
            "60000/60000 [==============================] - 2s 30us/step - loss: 0.2515 - acc: 0.9301 - val_loss: 0.2621 - val_acc: 0.9270\n",
            "Epoch 16/100\n",
            "60000/60000 [==============================] - 2s 30us/step - loss: 0.2504 - acc: 0.9304 - val_loss: 0.2644 - val_acc: 0.9273\n",
            "Epoch 17/100\n",
            "60000/60000 [==============================] - 2s 30us/step - loss: 0.2489 - acc: 0.9315 - val_loss: 0.2630 - val_acc: 0.9260\n",
            "Epoch 18/100\n",
            "60000/60000 [==============================] - 2s 30us/step - loss: 0.2475 - acc: 0.9311 - val_loss: 0.2609 - val_acc: 0.9286\n",
            "Epoch 19/100\n",
            "60000/60000 [==============================] - 2s 30us/step - loss: 0.2467 - acc: 0.9320 - val_loss: 0.2614 - val_acc: 0.9268\n",
            "Epoch 20/100\n",
            "60000/60000 [==============================] - 2s 30us/step - loss: 0.2454 - acc: 0.9325 - val_loss: 0.2625 - val_acc: 0.9265\n",
            "Epoch 21/100\n",
            "60000/60000 [==============================] - 2s 30us/step - loss: 0.2450 - acc: 0.9317 - val_loss: 0.2607 - val_acc: 0.9278\n",
            "Epoch 22/100\n",
            "60000/60000 [==============================] - 2s 31us/step - loss: 0.2436 - acc: 0.9328 - val_loss: 0.2642 - val_acc: 0.9263\n",
            "Epoch 23/100\n",
            "60000/60000 [==============================] - 2s 30us/step - loss: 0.2432 - acc: 0.9329 - val_loss: 0.2639 - val_acc: 0.9280\n",
            "Epoch 24/100\n",
            "60000/60000 [==============================] - 2s 29us/step - loss: 0.2422 - acc: 0.9333 - val_loss: 0.2620 - val_acc: 0.9283\n",
            "Epoch 25/100\n",
            "60000/60000 [==============================] - 2s 30us/step - loss: 0.2412 - acc: 0.9336 - val_loss: 0.2629 - val_acc: 0.9285\n",
            "Epoch 26/100\n",
            "60000/60000 [==============================] - 2s 30us/step - loss: 0.2408 - acc: 0.9336 - val_loss: 0.2634 - val_acc: 0.9273\n",
            "Epoch 27/100\n",
            "60000/60000 [==============================] - 2s 30us/step - loss: 0.2402 - acc: 0.9338 - val_loss: 0.2622 - val_acc: 0.9279\n",
            "Epoch 28/100\n",
            "60000/60000 [==============================] - 2s 30us/step - loss: 0.2396 - acc: 0.9344 - val_loss: 0.2631 - val_acc: 0.9281\n",
            "Epoch 29/100\n",
            "60000/60000 [==============================] - 2s 30us/step - loss: 0.2388 - acc: 0.9344 - val_loss: 0.2626 - val_acc: 0.9275\n",
            "Epoch 30/100\n",
            "60000/60000 [==============================] - 2s 30us/step - loss: 0.2382 - acc: 0.9346 - val_loss: 0.2635 - val_acc: 0.9284\n",
            "Epoch 31/100\n",
            "60000/60000 [==============================] - 2s 30us/step - loss: 0.2379 - acc: 0.9350 - val_loss: 0.2638 - val_acc: 0.9291\n",
            "Epoch 32/100\n",
            "60000/60000 [==============================] - 2s 30us/step - loss: 0.2375 - acc: 0.9346 - val_loss: 0.2641 - val_acc: 0.9277\n",
            "Epoch 33/100\n",
            "60000/60000 [==============================] - 2s 30us/step - loss: 0.2367 - acc: 0.9349 - val_loss: 0.2630 - val_acc: 0.9281\n",
            "Epoch 34/100\n",
            "60000/60000 [==============================] - 2s 30us/step - loss: 0.2365 - acc: 0.9353 - val_loss: 0.2643 - val_acc: 0.9272\n",
            "Epoch 35/100\n",
            "60000/60000 [==============================] - 2s 30us/step - loss: 0.2358 - acc: 0.9354 - val_loss: 0.2660 - val_acc: 0.9272\n",
            "Epoch 36/100\n",
            "60000/60000 [==============================] - 2s 30us/step - loss: 0.2353 - acc: 0.9353 - val_loss: 0.2643 - val_acc: 0.9281\n",
            "Epoch 37/100\n",
            "60000/60000 [==============================] - 2s 30us/step - loss: 0.2348 - acc: 0.9357 - val_loss: 0.2640 - val_acc: 0.9278\n",
            "Epoch 38/100\n",
            "60000/60000 [==============================] - 2s 30us/step - loss: 0.2348 - acc: 0.9356 - val_loss: 0.2689 - val_acc: 0.9257\n",
            "Epoch 39/100\n",
            "60000/60000 [==============================] - 2s 30us/step - loss: 0.2341 - acc: 0.9355 - val_loss: 0.2667 - val_acc: 0.9281\n",
            "Epoch 40/100\n",
            "60000/60000 [==============================] - 2s 30us/step - loss: 0.2338 - acc: 0.9359 - val_loss: 0.2654 - val_acc: 0.9284\n",
            "Epoch 41/100\n",
            "60000/60000 [==============================] - 2s 30us/step - loss: 0.2334 - acc: 0.9354 - val_loss: 0.2661 - val_acc: 0.9283\n",
            "Epoch 42/100\n",
            "60000/60000 [==============================] - 2s 30us/step - loss: 0.2330 - acc: 0.9354 - val_loss: 0.2654 - val_acc: 0.9276\n",
            "Epoch 43/100\n",
            "60000/60000 [==============================] - 2s 30us/step - loss: 0.2325 - acc: 0.9356 - val_loss: 0.2665 - val_acc: 0.9274\n",
            "Epoch 44/100\n",
            "60000/60000 [==============================] - 2s 30us/step - loss: 0.2324 - acc: 0.9357 - val_loss: 0.2672 - val_acc: 0.9291\n",
            "Epoch 45/100\n",
            "60000/60000 [==============================] - 2s 30us/step - loss: 0.2320 - acc: 0.9359 - val_loss: 0.2663 - val_acc: 0.9285\n",
            "Epoch 46/100\n",
            "60000/60000 [==============================] - 2s 30us/step - loss: 0.2316 - acc: 0.9361 - val_loss: 0.2675 - val_acc: 0.9275\n",
            "Epoch 47/100\n",
            "60000/60000 [==============================] - 2s 31us/step - loss: 0.2314 - acc: 0.9364 - val_loss: 0.2688 - val_acc: 0.9269\n",
            "Epoch 48/100\n",
            "60000/60000 [==============================] - 2s 31us/step - loss: 0.2312 - acc: 0.9361 - val_loss: 0.2668 - val_acc: 0.9291\n",
            "Epoch 49/100\n",
            "60000/60000 [==============================] - 2s 30us/step - loss: 0.2305 - acc: 0.9362 - val_loss: 0.2686 - val_acc: 0.9285\n",
            "Epoch 50/100\n",
            "60000/60000 [==============================] - 2s 30us/step - loss: 0.2304 - acc: 0.9363 - val_loss: 0.2692 - val_acc: 0.9276\n",
            "Epoch 51/100\n",
            "60000/60000 [==============================] - 2s 30us/step - loss: 0.2301 - acc: 0.9367 - val_loss: 0.2687 - val_acc: 0.9284\n",
            "Epoch 52/100\n",
            "60000/60000 [==============================] - 2s 30us/step - loss: 0.2301 - acc: 0.9361 - val_loss: 0.2685 - val_acc: 0.9287\n",
            "Epoch 53/100\n",
            "60000/60000 [==============================] - 2s 30us/step - loss: 0.2297 - acc: 0.9364 - val_loss: 0.2713 - val_acc: 0.9268\n",
            "Epoch 54/100\n",
            "60000/60000 [==============================] - 2s 30us/step - loss: 0.2296 - acc: 0.9363 - val_loss: 0.2700 - val_acc: 0.9284\n",
            "Epoch 55/100\n",
            "60000/60000 [==============================] - 2s 30us/step - loss: 0.2292 - acc: 0.9370 - val_loss: 0.2699 - val_acc: 0.9285\n",
            "Epoch 56/100\n",
            "60000/60000 [==============================] - 2s 30us/step - loss: 0.2295 - acc: 0.9369 - val_loss: 0.2694 - val_acc: 0.9277\n",
            "Epoch 57/100\n",
            "60000/60000 [==============================] - 2s 30us/step - loss: 0.2291 - acc: 0.9368 - val_loss: 0.2715 - val_acc: 0.9270\n",
            "Epoch 58/100\n",
            "60000/60000 [==============================] - 2s 30us/step - loss: 0.2285 - acc: 0.9367 - val_loss: 0.2703 - val_acc: 0.9281\n",
            "Epoch 59/100\n",
            "60000/60000 [==============================] - 2s 30us/step - loss: 0.2284 - acc: 0.9368 - val_loss: 0.2732 - val_acc: 0.9281\n",
            "Epoch 60/100\n",
            "60000/60000 [==============================] - 2s 30us/step - loss: 0.2286 - acc: 0.9373 - val_loss: 0.2754 - val_acc: 0.9270\n",
            "Epoch 61/100\n",
            "60000/60000 [==============================] - 2s 30us/step - loss: 0.2279 - acc: 0.9370 - val_loss: 0.2718 - val_acc: 0.9275\n",
            "Epoch 62/100\n",
            "60000/60000 [==============================] - 2s 30us/step - loss: 0.2277 - acc: 0.9374 - val_loss: 0.2718 - val_acc: 0.9285\n",
            "Epoch 63/100\n",
            "60000/60000 [==============================] - 2s 30us/step - loss: 0.2278 - acc: 0.9365 - val_loss: 0.2737 - val_acc: 0.9276\n",
            "Epoch 64/100\n",
            "60000/60000 [==============================] - 2s 30us/step - loss: 0.2272 - acc: 0.9373 - val_loss: 0.2720 - val_acc: 0.9287\n",
            "Epoch 65/100\n",
            "60000/60000 [==============================] - 2s 30us/step - loss: 0.2268 - acc: 0.9376 - val_loss: 0.2749 - val_acc: 0.9285\n",
            "Epoch 66/100\n",
            "60000/60000 [==============================] - 2s 30us/step - loss: 0.2272 - acc: 0.9373 - val_loss: 0.2725 - val_acc: 0.9280\n",
            "Epoch 67/100\n",
            "60000/60000 [==============================] - 2s 30us/step - loss: 0.2268 - acc: 0.9376 - val_loss: 0.2735 - val_acc: 0.9285\n",
            "Epoch 68/100\n",
            "60000/60000 [==============================] - 2s 30us/step - loss: 0.2264 - acc: 0.9375 - val_loss: 0.2754 - val_acc: 0.9277\n",
            "Epoch 69/100\n",
            "60000/60000 [==============================] - 2s 30us/step - loss: 0.2265 - acc: 0.9369 - val_loss: 0.2727 - val_acc: 0.9286\n",
            "Epoch 70/100\n",
            "60000/60000 [==============================] - 2s 30us/step - loss: 0.2259 - acc: 0.9375 - val_loss: 0.2738 - val_acc: 0.9291\n",
            "Epoch 71/100\n",
            "60000/60000 [==============================] - 2s 30us/step - loss: 0.2260 - acc: 0.9376 - val_loss: 0.2739 - val_acc: 0.9285\n",
            "Epoch 72/100\n",
            "60000/60000 [==============================] - 2s 30us/step - loss: 0.2259 - acc: 0.9375 - val_loss: 0.2755 - val_acc: 0.9278\n",
            "Epoch 73/100\n",
            "60000/60000 [==============================] - 2s 29us/step - loss: 0.2254 - acc: 0.9379 - val_loss: 0.2751 - val_acc: 0.9274\n",
            "Epoch 74/100\n",
            "60000/60000 [==============================] - 2s 30us/step - loss: 0.2256 - acc: 0.9378 - val_loss: 0.2757 - val_acc: 0.9269\n",
            "Epoch 75/100\n",
            "60000/60000 [==============================] - 2s 30us/step - loss: 0.2253 - acc: 0.9377 - val_loss: 0.2780 - val_acc: 0.9262\n",
            "Epoch 76/100\n",
            "60000/60000 [==============================] - 2s 30us/step - loss: 0.2249 - acc: 0.9378 - val_loss: 0.2743 - val_acc: 0.9279\n",
            "Epoch 77/100\n",
            "60000/60000 [==============================] - 2s 30us/step - loss: 0.2248 - acc: 0.9377 - val_loss: 0.2754 - val_acc: 0.9284\n",
            "Epoch 78/100\n",
            "60000/60000 [==============================] - 2s 30us/step - loss: 0.2247 - acc: 0.9379 - val_loss: 0.2759 - val_acc: 0.9278\n",
            "Epoch 79/100\n",
            "60000/60000 [==============================] - 2s 30us/step - loss: 0.2245 - acc: 0.9379 - val_loss: 0.2767 - val_acc: 0.9274\n",
            "Epoch 80/100\n",
            "60000/60000 [==============================] - 2s 30us/step - loss: 0.2243 - acc: 0.9378 - val_loss: 0.2800 - val_acc: 0.9267\n",
            "Epoch 81/100\n",
            "60000/60000 [==============================] - 2s 29us/step - loss: 0.2244 - acc: 0.9376 - val_loss: 0.2758 - val_acc: 0.9272\n",
            "Epoch 82/100\n",
            "60000/60000 [==============================] - 2s 30us/step - loss: 0.2241 - acc: 0.9377 - val_loss: 0.2751 - val_acc: 0.9286\n",
            "Epoch 83/100\n",
            "60000/60000 [==============================] - 2s 30us/step - loss: 0.2238 - acc: 0.9379 - val_loss: 0.2757 - val_acc: 0.9273\n",
            "Epoch 84/100\n",
            "60000/60000 [==============================] - 2s 30us/step - loss: 0.2239 - acc: 0.9379 - val_loss: 0.2784 - val_acc: 0.9264\n",
            "Epoch 85/100\n",
            "60000/60000 [==============================] - 2s 30us/step - loss: 0.2237 - acc: 0.9380 - val_loss: 0.2780 - val_acc: 0.9278\n",
            "Epoch 86/100\n",
            "60000/60000 [==============================] - 2s 30us/step - loss: 0.2240 - acc: 0.9382 - val_loss: 0.2777 - val_acc: 0.9280\n",
            "Epoch 87/100\n",
            "60000/60000 [==============================] - 2s 30us/step - loss: 0.2234 - acc: 0.9383 - val_loss: 0.2780 - val_acc: 0.9279\n",
            "Epoch 88/100\n",
            "60000/60000 [==============================] - 2s 30us/step - loss: 0.2235 - acc: 0.9377 - val_loss: 0.2775 - val_acc: 0.9271\n",
            "Epoch 89/100\n",
            "60000/60000 [==============================] - 2s 29us/step - loss: 0.2231 - acc: 0.9379 - val_loss: 0.2781 - val_acc: 0.9268\n",
            "Epoch 90/100\n",
            "60000/60000 [==============================] - 2s 29us/step - loss: 0.2232 - acc: 0.9384 - val_loss: 0.2787 - val_acc: 0.9276\n",
            "Epoch 91/100\n",
            "60000/60000 [==============================] - 2s 30us/step - loss: 0.2228 - acc: 0.9385 - val_loss: 0.2788 - val_acc: 0.9268\n",
            "Epoch 92/100\n",
            "60000/60000 [==============================] - 2s 30us/step - loss: 0.2229 - acc: 0.9381 - val_loss: 0.2789 - val_acc: 0.9278\n",
            "Epoch 93/100\n",
            "60000/60000 [==============================] - 2s 30us/step - loss: 0.2228 - acc: 0.9384 - val_loss: 0.2798 - val_acc: 0.9275\n",
            "Epoch 94/100\n",
            "60000/60000 [==============================] - 2s 30us/step - loss: 0.2225 - acc: 0.9384 - val_loss: 0.2803 - val_acc: 0.9283\n",
            "Epoch 95/100\n",
            "60000/60000 [==============================] - 2s 30us/step - loss: 0.2225 - acc: 0.9381 - val_loss: 0.2794 - val_acc: 0.9288\n",
            "Epoch 96/100\n",
            "60000/60000 [==============================] - 2s 30us/step - loss: 0.2226 - acc: 0.9384 - val_loss: 0.2793 - val_acc: 0.9276\n",
            "Epoch 97/100\n",
            "60000/60000 [==============================] - 2s 30us/step - loss: 0.2222 - acc: 0.9386 - val_loss: 0.2819 - val_acc: 0.9284\n",
            "Epoch 98/100\n",
            "60000/60000 [==============================] - 2s 29us/step - loss: 0.2222 - acc: 0.9383 - val_loss: 0.2790 - val_acc: 0.9281\n",
            "Epoch 99/100\n",
            "60000/60000 [==============================] - 2s 30us/step - loss: 0.2217 - acc: 0.9384 - val_loss: 0.2816 - val_acc: 0.9270\n",
            "Epoch 100/100\n",
            "60000/60000 [==============================] - 2s 30us/step - loss: 0.2218 - acc: 0.9385 - val_loss: 0.2807 - val_acc: 0.9274\n",
            "_________________________________________________________________\n",
            "Layer (type)                 Output Shape              Param #   \n",
            "=================================================================\n",
            "dense_1 (Dense)              (None, 10)                7850      \n",
            "=================================================================\n",
            "Total params: 7,850\n",
            "Trainable params: 7,850\n",
            "Non-trainable params: 0\n",
            "_________________________________________________________________\n"
          ],
          "name": "stdout"
        }
      ]
    },
    {
      "cell_type": "markdown",
      "metadata": {
        "id": "qN-g68dy7Loc",
        "colab_type": "text"
      },
      "source": [
        "###**History**"
      ]
    },
    {
      "cell_type": "code",
      "metadata": {
        "id": "4jNtVrm-7PPi",
        "colab_type": "code",
        "outputId": "3cd4c7e7-00ba-4e09-db7a-247b18857c36",
        "colab": {
          "base_uri": "https://localhost:8080/",
          "height": 1717
        }
      },
      "source": [
        "history.history['acc']"
      ],
      "execution_count": 0,
      "outputs": [
        {
          "output_type": "execute_result",
          "data": {
            "text/plain": [
              "[0.8269833333651225,\n",
              " 0.9022333333333333,\n",
              " 0.9116999999682108,\n",
              " 0.9166333333015442,\n",
              " 0.9194,\n",
              " 0.9222333333651225,\n",
              " 0.9232833333651225,\n",
              " 0.9244666666666667,\n",
              " 0.9259666666984558,\n",
              " 0.9267,\n",
              " 0.9272166666984558,\n",
              " 0.92865,\n",
              " 0.9292999999682109,\n",
              " 0.93045,\n",
              " 0.9300833333015441,\n",
              " 0.9304333333015442,\n",
              " 0.9315166666666667,\n",
              " 0.9310666666984558,\n",
              " 0.9320333333333334,\n",
              " 0.9325,\n",
              " 0.9317166666666666,\n",
              " 0.9327500000317891,\n",
              " 0.9328833333651225,\n",
              " 0.9332833333015442,\n",
              " 0.9336166666984558,\n",
              " 0.93365,\n",
              " 0.9338166666984558,\n",
              " 0.93435,\n",
              " 0.93435,\n",
              " 0.9346166666984558,\n",
              " 0.9349666666666666,\n",
              " 0.9345833333015442,\n",
              " 0.9348833333651225,\n",
              " 0.9352666666984558,\n",
              " 0.9353666666348776,\n",
              " 0.9352833333333334,\n",
              " 0.9356833333651224,\n",
              " 0.9355999999682109,\n",
              " 0.9354999999682109,\n",
              " 0.9358666666348775,\n",
              " 0.9354166666984558,\n",
              " 0.9354333333333333,\n",
              " 0.9355666666348775,\n",
              " 0.9356500000317891,\n",
              " 0.9359333333651225,\n",
              " 0.9361333333333334,\n",
              " 0.9363833333651225,\n",
              " 0.9360666666666667,\n",
              " 0.93615,\n",
              " 0.9363166666984558,\n",
              " 0.9367000000317891,\n",
              " 0.9361166666984558,\n",
              " 0.93635,\n",
              " 0.9362666666348776,\n",
              " 0.9370333333015441,\n",
              " 0.9369333333333333,\n",
              " 0.9368,\n",
              " 0.9367166666348775,\n",
              " 0.9368333333333333,\n",
              " 0.9372666666984558,\n",
              " 0.9370333333015441,\n",
              " 0.9374000000317891,\n",
              " 0.9364999999682109,\n",
              " 0.9373333333333334,\n",
              " 0.9375666666984558,\n",
              " 0.9373166666666667,\n",
              " 0.9376333333015442,\n",
              " 0.9375000000317891,\n",
              " 0.9369166666984559,\n",
              " 0.9374833333651225,\n",
              " 0.9375500000317891,\n",
              " 0.9375499999682109,\n",
              " 0.93795,\n",
              " 0.9378499999682108,\n",
              " 0.9377166666348775,\n",
              " 0.9377833333333333,\n",
              " 0.9377166666666666,\n",
              " 0.9379,\n",
              " 0.9378666666984559,\n",
              " 0.9378166666984558,\n",
              " 0.9375833333333333,\n",
              " 0.9377000000317891,\n",
              " 0.9379166666348775,\n",
              " 0.9378666666348775,\n",
              " 0.9379833333651225,\n",
              " 0.9382166666984558,\n",
              " 0.9383333333333334,\n",
              " 0.9377166666348775,\n",
              " 0.9379000000317892,\n",
              " 0.9383833333015442,\n",
              " 0.9384833333333333,\n",
              " 0.9380666666666667,\n",
              " 0.9384333333015442,\n",
              " 0.9383500000317891,\n",
              " 0.9381333333651225,\n",
              " 0.9384,\n",
              " 0.9386499999682109,\n",
              " 0.9382833333333334,\n",
              " 0.9383666666348776,\n",
              " 0.9385166666984558]"
            ]
          },
          "metadata": {
            "tags": []
          },
          "execution_count": 12
        }
      ]
    }
  ]
}
{
  "nbformat": 4,
  "nbformat_minor": 0,
  "metadata": {
    "colab": {
      "name": "Problem 1 2 3.ipynb",
      "provenance": [],
      "collapsed_sections": [
        "jW07xLy27dqu",
        "RvDFOJyyaiam",
        "_oiUmCmSX4Eb",
        "D2cIr3nZYt_M",
        "a7DkpEkhdpiW"
      ],
      "include_colab_link": true
    },
    "kernelspec": {
      "name": "python3",
      "display_name": "Python 3"
    },
    "accelerator": "GPU"
  },
  "cells": [
    {
      "cell_type": "markdown",
      "metadata": {
        "id": "view-in-github",
        "colab_type": "text"
      },
      "source": [
        "<a href=\"https://colab.research.google.com/github/shahhassansh/UCF_CAP5610_ML_Assignments/blob/master/Problem_1_2_3.ipynb\" target=\"_parent\"><img src=\"https://colab.research.google.com/assets/colab-badge.svg\" alt=\"Open In Colab\"/></a>"
      ]
    },
    {
      "cell_type": "markdown",
      "metadata": {
        "id": "jW07xLy27dqu",
        "colab_type": "text"
      },
      "source": [
        "##**Common Steps for Problems 1,2 and 3**\n",
        "Below are some common steps for Problem 1,2 and 3\n"
      ]
    },
    {
      "cell_type": "markdown",
      "metadata": {
        "id": "iEvJpFFA8V0c",
        "colab_type": "text"
      },
      "source": [
        "###**Importing Libraries**"
      ]
    },
    {
      "cell_type": "code",
      "metadata": {
        "id": "06134wlknvB7",
        "colab_type": "code",
        "colab": {}
      },
      "source": [
        "import numpy as np\n",
        "import math\n",
        "from keras.utils import to_categorical\n",
        "np.random.seed(0)\n",
        "from keras.datasets import mnist"
      ],
      "execution_count": 0,
      "outputs": []
    },
    {
      "cell_type": "markdown",
      "metadata": {
        "id": "Zq1XSQbj8b6X",
        "colab_type": "text"
      },
      "source": [
        "###**Loading Data**"
      ]
    },
    {
      "cell_type": "code",
      "metadata": {
        "id": "ly5U3Gk61ZI4",
        "colab_type": "code",
        "colab": {}
      },
      "source": [
        "[train_raw_images, train_labels], [test_raw_images, test_labels] = mnist.load_data()"
      ],
      "execution_count": 0,
      "outputs": []
    },
    {
      "cell_type": "markdown",
      "metadata": {
        "id": "WDEWvs1e8hIB",
        "colab_type": "text"
      },
      "source": [
        "###**Function for Categorizing Labels**"
      ]
    },
    {
      "cell_type": "code",
      "metadata": {
        "id": "9Vo7Rq0PIxRL",
        "colab_type": "code",
        "colab": {}
      },
      "source": [
        "def make_labels_binary(train_labels, inp):\n",
        "  return [1 if x==inp else 0 for x in train_labels]"
      ],
      "execution_count": 0,
      "outputs": []
    },
    {
      "cell_type": "markdown",
      "metadata": {
        "id": "7XYVf0sj8vim",
        "colab_type": "text"
      },
      "source": [
        "###**Generating Categorized Labels**"
      ]
    },
    {
      "cell_type": "code",
      "metadata": {
        "id": "tjHr2hw9LGI6",
        "colab_type": "code",
        "colab": {}
      },
      "source": [
        "train_labels_0 = make_labels_binary(train_labels,0)\n",
        "train_labels_1 = make_labels_binary(train_labels,1)\n",
        "train_labels_2 = make_labels_binary(train_labels,2)\n",
        "train_labels_3 = make_labels_binary(train_labels,3)\n",
        "train_labels_4 = make_labels_binary(train_labels,4)\n",
        "train_labels_5 = make_labels_binary(train_labels,5)\n",
        "train_labels_6 = make_labels_binary(train_labels,6)\n",
        "train_labels_7 = make_labels_binary(train_labels,7)\n",
        "train_labels_8 = make_labels_binary(train_labels,8)\n",
        "train_labels_9 = make_labels_binary(train_labels,9)"
      ],
      "execution_count": 0,
      "outputs": []
    },
    {
      "cell_type": "code",
      "metadata": {
        "id": "OR7ACl2PMlfs",
        "colab_type": "code",
        "colab": {}
      },
      "source": [
        "test_labels_0 = make_labels_binary(test_labels,0)\n",
        "test_labels_1 = make_labels_binary(test_labels,1)\n",
        "test_labels_2 = make_labels_binary(test_labels,2)\n",
        "test_labels_3 = make_labels_binary(test_labels,3)\n",
        "test_labels_4 = make_labels_binary(test_labels,4)\n",
        "test_labels_5 = make_labels_binary(test_labels,5)\n",
        "test_labels_6 = make_labels_binary(test_labels,6)\n",
        "test_labels_7 = make_labels_binary(test_labels,7)\n",
        "test_labels_8 = make_labels_binary(test_labels,8)\n",
        "test_labels_9 = make_labels_binary(test_labels,9)"
      ],
      "execution_count": 0,
      "outputs": []
    },
    {
      "cell_type": "markdown",
      "metadata": {
        "id": "84V-uiWuMEQ2",
        "colab_type": "text"
      },
      "source": [
        "###**Categorizing Labels for Problem 3**"
      ]
    },
    {
      "cell_type": "code",
      "metadata": {
        "id": "SYEiNhngMQ3O",
        "colab_type": "code",
        "colab": {}
      },
      "source": [
        "train_labels_new = to_categorical(train_labels)\n",
        "test_labels_new = to_categorical(test_labels)"
      ],
      "execution_count": 0,
      "outputs": []
    },
    {
      "cell_type": "markdown",
      "metadata": {
        "id": "HdXwaL_U82-V",
        "colab_type": "text"
      },
      "source": [
        "###**Image Reshaping and Normalization**"
      ]
    },
    {
      "cell_type": "code",
      "metadata": {
        "id": "HM2CGqsVEGLb",
        "colab_type": "code",
        "colab": {}
      },
      "source": [
        "train_images = train_raw_images.reshape(60000, 28*28)\n",
        "train_images = train_images.astype('float32') / 255\n",
        "\n",
        "test_images = test_raw_images.reshape(10000, 28*28)\n",
        "test_images = test_images.astype('float32') / 255"
      ],
      "execution_count": 0,
      "outputs": []
    },
    {
      "cell_type": "markdown",
      "metadata": {
        "id": "hC9QERs49BPz",
        "colab_type": "text"
      },
      "source": [
        "###**Initial Bias and Weight Declaration**"
      ]
    },
    {
      "cell_type": "code",
      "metadata": {
        "id": "_a7Km-ApEJtB",
        "colab_type": "code",
        "colab": {}
      },
      "source": [
        "bias = 0\n",
        "weight = np.random.rand(28*28)\n",
        "\n",
        "bias_cce = np.zeros((10,1))\n",
        "weight_cce = np.random.rand(10,28*28)"
      ],
      "execution_count": 0,
      "outputs": []
    },
    {
      "cell_type": "markdown",
      "metadata": {
        "id": "1Dzet0Be9Gzu",
        "colab_type": "text"
      },
      "source": [
        "###**Logistic Regression Function**"
      ]
    },
    {
      "cell_type": "code",
      "metadata": {
        "id": "CuGqFsi9EUoE",
        "colab_type": "code",
        "colab": {}
      },
      "source": [
        "def logisticRegression(train_images, weight, bias):\n",
        "  z = np.dot(train_images,weight.T)+bias\n",
        "  return z\n",
        "\n",
        "def logisticRegression_cce(train_images, weight_cce, bias_cce):\n",
        "  z = np.dot(weight_cce,train_images.T)+bias_cce\n",
        "  return z"
      ],
      "execution_count": 0,
      "outputs": []
    },
    {
      "cell_type": "markdown",
      "metadata": {
        "id": "Ob0UYHgT9L83",
        "colab_type": "text"
      },
      "source": [
        "###**Activation Functions (Sigmoid and Softmax)**\n"
      ]
    },
    {
      "cell_type": "code",
      "metadata": {
        "id": "nJ722ta9CUpN",
        "colab_type": "code",
        "colab": {}
      },
      "source": [
        "## Sigmoid Function\n",
        "def sigmoid(z):\n",
        "   return (1./(1+np.exp(-1*z)))\n",
        "  \n",
        "## Softmax Function\n",
        "def softmax(z):\n",
        "  s = np.sum(np.exp(z), axis =0)\n",
        "  return np.exp(z)/s"
      ],
      "execution_count": 0,
      "outputs": []
    },
    {
      "cell_type": "code",
      "metadata": {
        "id": "DOCK2g0yHsyb",
        "colab_type": "code",
        "colab": {}
      },
      "source": [
        "#Converting Sigmoid into 0,1\n",
        "def sigmoid_binary(act):\n",
        "  for i in range(0,len(act)):\n",
        "    if act[i]<0.5:\n",
        "      act[i] = 0\n",
        "    else:\n",
        "      act[i] = 1 \n",
        "  return act"
      ],
      "execution_count": 0,
      "outputs": []
    },
    {
      "cell_type": "markdown",
      "metadata": {
        "id": "xZuXVew59WjJ",
        "colab_type": "text"
      },
      "source": [
        "###**Loss Functions (Mean Square Error, Cross Entropy, Categorical Cross Function)**\n",
        "These Functions are loss functions not used for training"
      ]
    },
    {
      "cell_type": "code",
      "metadata": {
        "id": "8C3dSMRjCZzs",
        "colab_type": "code",
        "colab": {}
      },
      "source": [
        "## Mean Square Error Function\n",
        "def MSE(act_y,pre_y,t):\n",
        "  return (np.sum(np.square(pre_y - act_y)))/t\n",
        "\n",
        "## Cross Entropy Function\n",
        "def crossEntropy(act_y, pre_y,t):\n",
        "  return - (np.sum(act_y * np.log(pre_y) + (1 - act_y)* np.log(1 - pre_y))) / t\n",
        "\n",
        "## Categorical Cross Entropy Loss Function\n",
        "def categoricalCrossEntropy(act_y, pre_y, t):\n",
        "  return - np.sum(act_y*np.log(pre_y))"
      ],
      "execution_count": 0,
      "outputs": []
    },
    {
      "cell_type": "markdown",
      "metadata": {
        "id": "lsg-2cR99fhd",
        "colab_type": "text"
      },
      "source": [
        "###**Optimization Function (for MSQ, CE and CCE)**"
      ]
    },
    {
      "cell_type": "code",
      "metadata": {
        "id": "EldEz1d8Ce7k",
        "colab_type": "code",
        "colab": {}
      },
      "source": [
        "#OPtimization Function for Mean Sqaure Error\n",
        "def optimization_MSE(A, y, t, train_images,w,b, alpha):\n",
        "  dZ = (A-y)*A*(1-A)\n",
        "  dW = 2*np.dot(dZ,train_images)*(1/t)\n",
        "  w = w - (alpha * dW)\n",
        "  dB = 2*np.sum(dZ)\n",
        "  b = b - (alpha*dB)\n",
        "  return w, b"
      ],
      "execution_count": 0,
      "outputs": []
    },
    {
      "cell_type": "code",
      "metadata": {
        "id": "PVs_8TfqPL_h",
        "colab_type": "code",
        "colab": {}
      },
      "source": [
        "#Optimization Function for Cross Entropy\n",
        "def optimization_CE(A,y,t,train_images,w,b,alpha):\n",
        "  dZ = A-y\n",
        "  dW = np.dot(dZ, train_images)*(1/t)\n",
        "  w = w - (alpha * dW)\n",
        "  dB = np.sum(dZ)\n",
        "  b = b - (alpha*dB)\n",
        "  return w, b"
      ],
      "execution_count": 0,
      "outputs": []
    },
    {
      "cell_type": "code",
      "metadata": {
        "id": "qWdbtt7mLHjo",
        "colab_type": "code",
        "colab": {}
      },
      "source": [
        "#OPtimization Function for Stochastic Categorical Cross Entropy\n",
        "def optimization_CCE(A, y, t, train_images,weight_cce,bias_cce, alpha):\n",
        "  y = y.T\n",
        "  #print(train_images.shape)\n",
        "  for a in range(0,y.shape[1]):\n",
        "    dZ = np.zeros((10))\n",
        "    for b in range(0,y.shape[0]): #j\n",
        "      aa = A[b,a]\n",
        "      xx =0\n",
        "      for c in range(0,y.shape[0]): #k\n",
        "        if (c != b):\n",
        "          xx = xx + y[c,a]*aa\n",
        "        elif (c==b):\n",
        "          xx = xx + y[c,a]*(aa -1)\n",
        "      dZ[b] = xx\n",
        "    yy =0\n",
        "    for e in range(0,dZ.shape[0]):\n",
        "       weight_cce[e,:]= weight_cce[e,:] - (alpha * (dZ[e]*train_images[a]))\n",
        "       bias_cce[e] = bias_cce[e] - alpha * (dZ[e]) \n",
        "  return weight_cce, bias_cce"
      ],
      "execution_count": 0,
      "outputs": []
    },
    {
      "cell_type": "markdown",
      "metadata": {
        "id": "8HFnseIiJUrc",
        "colab_type": "text"
      },
      "source": [
        "###**Accuracy Calculation**"
      ]
    },
    {
      "cell_type": "code",
      "metadata": {
        "id": "JCAsfcF4JT3R",
        "colab_type": "code",
        "colab": {}
      },
      "source": [
        "def calculateAccuracy(pre,act):\n",
        "  c = 0\n",
        "  t = len(pre)\n",
        "  for i in range(0,len(pre)):\n",
        "     if (pre[i] == act[i]):\n",
        "        c = c+1\n",
        "  return float(c/t)*100.0\n",
        "    "
      ],
      "execution_count": 0,
      "outputs": []
    },
    {
      "cell_type": "markdown",
      "metadata": {
        "id": "RvDFOJyyaiam",
        "colab_type": "text"
      },
      "source": [
        "##**Problem 1**"
      ]
    },
    {
      "cell_type": "markdown",
      "metadata": {
        "id": "h9LNxSLg9rAU",
        "colab_type": "text"
      },
      "source": [
        "###**Mini-batch Gradient Descent Model with Mean Sqaure Error Loss Method**"
      ]
    },
    {
      "cell_type": "code",
      "metadata": {
        "id": "2PmiwuM4ygmI",
        "colab_type": "code",
        "colab": {}
      },
      "source": [
        "def model_MGD(train_images, train_labels, weight, bias, alpha, batchsize, epoch):\n",
        "  t = len(train_images)\n",
        "  x = math.ceil(t/batchsize)\n",
        "  start=0\n",
        "  end= start+batchsize\n",
        "  for a in range(1,epoch):\n",
        "    for k in range(0,x):\n",
        "      z = logisticRegression(train_images[start:end], weight, bias)\n",
        "      act = sigmoid(z)\n",
        "      act_f = sigmoid_binary(act)\n",
        "      weight,bias = optimization_MSE(act_f, train_labels[start:end], 1, train_images[start:end],weight,bias, alpha)\n",
        "    start = end\n",
        "    end = end+batchsize\n",
        "    if (end > t):\n",
        "      end = t\n",
        "    acc = calculateAccuracy(act_f, train_labels[start:end])\n",
        "    print(\"epoch: \", a, \"Accuracy:\", acc)\n",
        "  return weight,bias"
      ],
      "execution_count": 0,
      "outputs": []
    },
    {
      "cell_type": "markdown",
      "metadata": {
        "id": "x5Fb6YJL-wtl",
        "colab_type": "text"
      },
      "source": [
        "###**Traning for Category 0**"
      ]
    },
    {
      "cell_type": "code",
      "metadata": {
        "id": "LVIiNV85_A6H",
        "colab_type": "code",
        "outputId": "1aea7235-01b2-4abe-b6bd-4a20278a3a24",
        "colab": {
          "base_uri": "https://localhost:8080/",
          "height": 1700
        }
      },
      "source": [
        "w0,b0 = model_MGD(train_images, train_labels_0, weight, bias, 0.001, 256, 100)"
      ],
      "execution_count": 0,
      "outputs": [
        {
          "output_type": "stream",
          "text": [
            "epoch:  1 Accuracy: 89.84375\n",
            "epoch:  2 Accuracy: 89.84375\n",
            "epoch:  3 Accuracy: 90.234375\n",
            "epoch:  4 Accuracy: 92.578125\n",
            "epoch:  5 Accuracy: 89.453125\n",
            "epoch:  6 Accuracy: 91.015625\n",
            "epoch:  7 Accuracy: 90.625\n",
            "epoch:  8 Accuracy: 90.625\n",
            "epoch:  9 Accuracy: 89.84375\n",
            "epoch:  10 Accuracy: 91.015625\n",
            "epoch:  11 Accuracy: 88.671875\n",
            "epoch:  12 Accuracy: 92.1875\n",
            "epoch:  13 Accuracy: 89.84375\n",
            "epoch:  14 Accuracy: 89.84375\n",
            "epoch:  15 Accuracy: 90.625\n",
            "epoch:  16 Accuracy: 88.28125\n",
            "epoch:  17 Accuracy: 91.015625\n",
            "epoch:  18 Accuracy: 89.84375\n",
            "epoch:  19 Accuracy: 89.0625\n",
            "epoch:  20 Accuracy: 85.9375\n",
            "epoch:  21 Accuracy: 88.671875\n",
            "epoch:  22 Accuracy: 90.234375\n",
            "epoch:  23 Accuracy: 90.625\n",
            "epoch:  24 Accuracy: 91.796875\n",
            "epoch:  25 Accuracy: 90.234375\n",
            "epoch:  26 Accuracy: 89.84375\n",
            "epoch:  27 Accuracy: 86.71875\n",
            "epoch:  28 Accuracy: 90.234375\n",
            "epoch:  29 Accuracy: 90.625\n",
            "epoch:  30 Accuracy: 88.671875\n",
            "epoch:  31 Accuracy: 87.5\n",
            "epoch:  32 Accuracy: 89.453125\n",
            "epoch:  33 Accuracy: 93.359375\n",
            "epoch:  34 Accuracy: 91.015625\n",
            "epoch:  35 Accuracy: 87.5\n",
            "epoch:  36 Accuracy: 89.84375\n",
            "epoch:  37 Accuracy: 89.453125\n",
            "epoch:  38 Accuracy: 88.671875\n",
            "epoch:  39 Accuracy: 88.671875\n",
            "epoch:  40 Accuracy: 88.28125\n",
            "epoch:  41 Accuracy: 91.796875\n",
            "epoch:  42 Accuracy: 91.40625\n",
            "epoch:  43 Accuracy: 89.453125\n",
            "epoch:  44 Accuracy: 90.234375\n",
            "epoch:  45 Accuracy: 88.671875\n",
            "epoch:  46 Accuracy: 87.890625\n",
            "epoch:  47 Accuracy: 90.625\n",
            "epoch:  48 Accuracy: 91.40625\n",
            "epoch:  49 Accuracy: 87.890625\n",
            "epoch:  50 Accuracy: 92.1875\n",
            "epoch:  51 Accuracy: 87.5\n",
            "epoch:  52 Accuracy: 91.015625\n",
            "epoch:  53 Accuracy: 90.625\n",
            "epoch:  54 Accuracy: 89.84375\n",
            "epoch:  55 Accuracy: 88.671875\n",
            "epoch:  56 Accuracy: 91.015625\n",
            "epoch:  57 Accuracy: 91.796875\n",
            "epoch:  58 Accuracy: 91.796875\n",
            "epoch:  59 Accuracy: 89.84375\n",
            "epoch:  60 Accuracy: 88.671875\n",
            "epoch:  61 Accuracy: 87.890625\n",
            "epoch:  62 Accuracy: 90.625\n",
            "epoch:  63 Accuracy: 90.625\n",
            "epoch:  64 Accuracy: 87.890625\n",
            "epoch:  65 Accuracy: 94.53125\n",
            "epoch:  66 Accuracy: 90.234375\n",
            "epoch:  67 Accuracy: 91.015625\n",
            "epoch:  68 Accuracy: 89.453125\n",
            "epoch:  69 Accuracy: 93.359375\n",
            "epoch:  70 Accuracy: 90.625\n",
            "epoch:  71 Accuracy: 91.40625\n",
            "epoch:  72 Accuracy: 89.84375\n",
            "epoch:  73 Accuracy: 88.28125\n",
            "epoch:  74 Accuracy: 89.0625\n",
            "epoch:  75 Accuracy: 91.796875\n",
            "epoch:  76 Accuracy: 87.890625\n",
            "epoch:  77 Accuracy: 87.109375\n",
            "epoch:  78 Accuracy: 91.015625\n",
            "epoch:  79 Accuracy: 91.40625\n",
            "epoch:  80 Accuracy: 87.890625\n",
            "epoch:  81 Accuracy: 90.234375\n",
            "epoch:  82 Accuracy: 92.578125\n",
            "epoch:  83 Accuracy: 91.015625\n",
            "epoch:  84 Accuracy: 87.5\n",
            "epoch:  85 Accuracy: 89.0625\n",
            "epoch:  86 Accuracy: 91.015625\n",
            "epoch:  87 Accuracy: 89.453125\n",
            "epoch:  88 Accuracy: 89.453125\n",
            "epoch:  89 Accuracy: 89.84375\n",
            "epoch:  90 Accuracy: 91.40625\n",
            "epoch:  91 Accuracy: 91.015625\n",
            "epoch:  92 Accuracy: 91.40625\n",
            "epoch:  93 Accuracy: 91.015625\n",
            "epoch:  94 Accuracy: 91.796875\n",
            "epoch:  95 Accuracy: 90.234375\n",
            "epoch:  96 Accuracy: 90.234375\n",
            "epoch:  97 Accuracy: 89.453125\n",
            "epoch:  98 Accuracy: 92.1875\n",
            "epoch:  99 Accuracy: 90.625\n"
          ],
          "name": "stdout"
        }
      ]
    },
    {
      "cell_type": "markdown",
      "metadata": {
        "id": "AXMpRLJfRPaF",
        "colab_type": "text"
      },
      "source": [
        "###**Test Data Accuracy Calculation for Category 0**"
      ]
    },
    {
      "cell_type": "code",
      "metadata": {
        "id": "czFuSWi8RcTs",
        "colab_type": "code",
        "outputId": "c68ba11a-519c-462b-f02b-d596d5d79650",
        "colab": {
          "base_uri": "https://localhost:8080/",
          "height": 34
        }
      },
      "source": [
        "z_0=logisticRegression(test_images, w0, b0)\n",
        "pre_0 = sigmoid_binary(sigmoid(z_0))\n",
        "print(\"Testing Accuracy:\",calculateAccuracy(pre_0,test_labels_0))"
      ],
      "execution_count": 0,
      "outputs": [
        {
          "output_type": "stream",
          "text": [
            "Testing Accuracy: 90.25\n"
          ],
          "name": "stdout"
        }
      ]
    },
    {
      "cell_type": "markdown",
      "metadata": {
        "id": "YaSiasnER_Fi",
        "colab_type": "text"
      },
      "source": [
        "###**Training for Category 1**"
      ]
    },
    {
      "cell_type": "code",
      "metadata": {
        "id": "VgY5Ekqe_M7J",
        "colab_type": "code",
        "outputId": "0886b6ba-59f5-4afc-bc72-d012e6bf4369",
        "colab": {
          "base_uri": "https://localhost:8080/",
          "height": 170
        }
      },
      "source": [
        "w1,b1 = model_MGD(train_images, train_labels_1, weight, bias, 0.001, 256, 10)"
      ],
      "execution_count": 0,
      "outputs": [
        {
          "output_type": "stream",
          "text": [
            "epoch:  1 Accuracy: 86.71875\n",
            "epoch:  2 Accuracy: 89.84375\n",
            "epoch:  3 Accuracy: 90.234375\n",
            "epoch:  4 Accuracy: 87.5\n",
            "epoch:  5 Accuracy: 90.625\n",
            "epoch:  6 Accuracy: 89.84375\n",
            "epoch:  7 Accuracy: 90.234375\n",
            "epoch:  8 Accuracy: 90.625\n",
            "epoch:  9 Accuracy: 88.28125\n"
          ],
          "name": "stdout"
        }
      ]
    },
    {
      "cell_type": "markdown",
      "metadata": {
        "id": "gibKc6WNR2Yu",
        "colab_type": "text"
      },
      "source": [
        "###**Test Data Accuracy Calculation for Category 1**"
      ]
    },
    {
      "cell_type": "code",
      "metadata": {
        "id": "d4LfsBQUSGMX",
        "colab_type": "code",
        "outputId": "29e670b0-df80-4175-d8fa-c1ab1924e40f",
        "colab": {
          "base_uri": "https://localhost:8080/",
          "height": 34
        }
      },
      "source": [
        "z_1=logisticRegression(test_images, w1, b1)\n",
        "pre_1 = sigmoid_binary(sigmoid(z_1))\n",
        "print(\"Testing Accuracy:\",calculateAccuracy(pre_1,test_labels_1))"
      ],
      "execution_count": 0,
      "outputs": [
        {
          "output_type": "stream",
          "text": [
            "Testing Accuracy: 88.63\n"
          ],
          "name": "stdout"
        }
      ]
    },
    {
      "cell_type": "markdown",
      "metadata": {
        "id": "ywibPaMpU_T5",
        "colab_type": "text"
      },
      "source": [
        "###**Training for Category 2**"
      ]
    },
    {
      "cell_type": "code",
      "metadata": {
        "id": "u3wAJy5S_Uks",
        "colab_type": "code",
        "outputId": "d2097afc-608c-41b7-8ea0-e2363b683fb6",
        "colab": {
          "base_uri": "https://localhost:8080/",
          "height": 170
        }
      },
      "source": [
        "w2,b2 = model_MGD(train_images, train_labels_2, weight, bias, 0.001, 256, 10)"
      ],
      "execution_count": 0,
      "outputs": [
        {
          "output_type": "stream",
          "text": [
            "epoch:  1 Accuracy: 89.84375\n",
            "epoch:  2 Accuracy: 89.0625\n",
            "epoch:  3 Accuracy: 91.796875\n",
            "epoch:  4 Accuracy: 90.234375\n",
            "epoch:  5 Accuracy: 92.1875\n",
            "epoch:  6 Accuracy: 87.890625\n",
            "epoch:  7 Accuracy: 89.84375\n",
            "epoch:  8 Accuracy: 91.40625\n",
            "epoch:  9 Accuracy: 88.671875\n"
          ],
          "name": "stdout"
        }
      ]
    },
    {
      "cell_type": "markdown",
      "metadata": {
        "id": "5H56QAotVsMH",
        "colab_type": "text"
      },
      "source": [
        "###**Test Data Accuracy Calculation for Category 2**"
      ]
    },
    {
      "cell_type": "code",
      "metadata": {
        "id": "FYYrGDKJV01d",
        "colab_type": "code",
        "outputId": "bd666f59-6eee-4b0a-a8d2-2d17564aab40",
        "colab": {
          "base_uri": "https://localhost:8080/",
          "height": 34
        }
      },
      "source": [
        "z_2=logisticRegression(test_images, w2, b2)\n",
        "pre_2 = sigmoid_binary(sigmoid(z_2))\n",
        "print(\"Testing Accuracy:\",calculateAccuracy(pre_2,test_labels_2))"
      ],
      "execution_count": 0,
      "outputs": [
        {
          "output_type": "stream",
          "text": [
            "Testing Accuracy: 89.69\n"
          ],
          "name": "stdout"
        }
      ]
    },
    {
      "cell_type": "markdown",
      "metadata": {
        "id": "_ZVEJ6mgV80T",
        "colab_type": "text"
      },
      "source": [
        "###**Training for Category 3**"
      ]
    },
    {
      "cell_type": "code",
      "metadata": {
        "id": "AALYsF2c_ZxD",
        "colab_type": "code",
        "outputId": "57821936-0e3b-46f1-9dea-b4a40106156d",
        "colab": {
          "base_uri": "https://localhost:8080/",
          "height": 170
        }
      },
      "source": [
        "w3,b3 = model_MGD(train_images, train_labels_3, weight, bias, 0.001, 256, 10)"
      ],
      "execution_count": 0,
      "outputs": [
        {
          "output_type": "stream",
          "text": [
            "epoch:  1 Accuracy: 91.40625\n",
            "epoch:  2 Accuracy: 92.1875\n",
            "epoch:  3 Accuracy: 91.015625\n",
            "epoch:  4 Accuracy: 90.625\n",
            "epoch:  5 Accuracy: 90.234375\n",
            "epoch:  6 Accuracy: 89.84375\n",
            "epoch:  7 Accuracy: 89.84375\n",
            "epoch:  8 Accuracy: 88.28125\n",
            "epoch:  9 Accuracy: 91.40625\n"
          ],
          "name": "stdout"
        }
      ]
    },
    {
      "cell_type": "markdown",
      "metadata": {
        "id": "mA0T53qQWEoI",
        "colab_type": "text"
      },
      "source": [
        "###**Test Data Accuracy Calculation for Category 3**"
      ]
    },
    {
      "cell_type": "code",
      "metadata": {
        "id": "neqBiFGcWWVF",
        "colab_type": "code",
        "outputId": "d34f836d-1450-4038-ccdc-06cec0cf63d7",
        "colab": {
          "base_uri": "https://localhost:8080/",
          "height": 34
        }
      },
      "source": [
        "z_3=logisticRegression(test_images, w3, b3)\n",
        "pre_3 = sigmoid_binary(sigmoid(z_3))\n",
        "print(\"Testing Accuracy:\",calculateAccuracy(pre_3,test_labels_3))"
      ],
      "execution_count": 0,
      "outputs": [
        {
          "output_type": "stream",
          "text": [
            "Testing Accuracy: 89.88000000000001\n"
          ],
          "name": "stdout"
        }
      ]
    },
    {
      "cell_type": "markdown",
      "metadata": {
        "id": "OZroVQ4_XO_N",
        "colab_type": "text"
      },
      "source": [
        "###**Training for Category 4**"
      ]
    },
    {
      "cell_type": "code",
      "metadata": {
        "id": "PcMwL9Nd_XA1",
        "colab_type": "code",
        "outputId": "a6cb3023-09b1-44b4-9ade-0be9d493ed54",
        "colab": {
          "base_uri": "https://localhost:8080/",
          "height": 170
        }
      },
      "source": [
        "w4,b4 = model_MGD(train_images, train_labels_4, weight, bias, 0.001, 256, 10)"
      ],
      "execution_count": 0,
      "outputs": [
        {
          "output_type": "stream",
          "text": [
            "epoch:  1 Accuracy: 88.28125\n",
            "epoch:  2 Accuracy: 88.671875\n",
            "epoch:  3 Accuracy: 89.0625\n",
            "epoch:  4 Accuracy: 86.328125\n",
            "epoch:  5 Accuracy: 92.1875\n",
            "epoch:  6 Accuracy: 87.890625\n",
            "epoch:  7 Accuracy: 89.453125\n",
            "epoch:  8 Accuracy: 86.71875\n",
            "epoch:  9 Accuracy: 88.28125\n"
          ],
          "name": "stdout"
        }
      ]
    },
    {
      "cell_type": "markdown",
      "metadata": {
        "id": "NF65ozS6Xb_U",
        "colab_type": "text"
      },
      "source": [
        "###**Test Data Accuracy Calculation for Category 4** "
      ]
    },
    {
      "cell_type": "code",
      "metadata": {
        "id": "B-ftqPFYXkm9",
        "colab_type": "code",
        "outputId": "a070d942-38e7-4a84-d20a-555d19184f2e",
        "colab": {
          "base_uri": "https://localhost:8080/",
          "height": 34
        }
      },
      "source": [
        "z_4=logisticRegression(test_images, w4, b4)\n",
        "pre_4 = sigmoid_binary(sigmoid(z_4))\n",
        "print(\"Testing Accuracy:\",calculateAccuracy(pre_4,test_labels_4))"
      ],
      "execution_count": 0,
      "outputs": [
        {
          "output_type": "stream",
          "text": [
            "Testing Accuracy: 90.14\n"
          ],
          "name": "stdout"
        }
      ]
    },
    {
      "cell_type": "markdown",
      "metadata": {
        "id": "_oiUmCmSX4Eb",
        "colab_type": "text"
      },
      "source": [
        "##**Problem 2**\n"
      ]
    },
    {
      "cell_type": "markdown",
      "metadata": {
        "id": "D2cIr3nZYt_M",
        "colab_type": "text"
      },
      "source": [
        "###**Mini-batch Gradient Descent Model with Cross Entropy Loss Method**"
      ]
    },
    {
      "cell_type": "code",
      "metadata": {
        "id": "xzwVt5TrY0aZ",
        "colab_type": "code",
        "colab": {}
      },
      "source": [
        "def model_MGD_CE(train_images, train_labels, weight, bias, alpha, batchsize, epoch):\n",
        "  t = len(train_images)\n",
        "  x = math.ceil(t/batchsize)\n",
        "  start=0\n",
        "  end= start+batchsize\n",
        "  for a in range(1,epoch):\n",
        "    for k in range(0,x):\n",
        "      z = logisticRegression(train_images[start:end], weight, bias)\n",
        "      act = sigmoid(z)\n",
        "      act_f = sigmoid_binary(act)\n",
        "      weight,bias = optimization_CE(act_f, train_labels[start:end], 1, train_images[start:end],weight,bias, alpha)\n",
        "    start = end\n",
        "    end = end+batchsize\n",
        "    if (end > t):\n",
        "      end = t\n",
        "    acc = calculateAccuracy(act_f, train_labels[start:end])\n",
        "    #print(\"epoch: \", a, \"Accuracy:\", acc)\n",
        "  return weight,bias"
      ],
      "execution_count": 0,
      "outputs": []
    },
    {
      "cell_type": "markdown",
      "metadata": {
        "id": "KmfE7mdgZGux",
        "colab_type": "text"
      },
      "source": [
        "###**Training for Category 5**"
      ]
    },
    {
      "cell_type": "code",
      "metadata": {
        "id": "8caxmqOuDH3n",
        "colab_type": "code",
        "colab": {}
      },
      "source": [
        "w5,b5 = model_MGD_CE(train_images, train_labels_5, weight, bias, 0.001, 256, 10)"
      ],
      "execution_count": 0,
      "outputs": []
    },
    {
      "cell_type": "markdown",
      "metadata": {
        "id": "1OOt-7P7Zs5-",
        "colab_type": "text"
      },
      "source": [
        "###**Test Data Accuracy Calculation for Category 5**"
      ]
    },
    {
      "cell_type": "code",
      "metadata": {
        "id": "uCmQAwBbaw2O",
        "colab_type": "code",
        "outputId": "2e5f1ead-30ad-4ece-db00-ad961e49c6bb",
        "colab": {
          "base_uri": "https://localhost:8080/",
          "height": 34
        }
      },
      "source": [
        "z_5=logisticRegression(test_images, w5, b5)\n",
        "pre_5 = sigmoid_binary(sigmoid(z_5))\n",
        "print(\"Testing Accuracy:\",calculateAccuracy(pre_5,test_labels_5))"
      ],
      "execution_count": 0,
      "outputs": [
        {
          "output_type": "stream",
          "text": [
            "Testing Accuracy: 93.47999999999999\n"
          ],
          "name": "stdout"
        }
      ]
    },
    {
      "cell_type": "markdown",
      "metadata": {
        "id": "38yrnBuUa4Qq",
        "colab_type": "text"
      },
      "source": [
        "###**Training for Category 6**"
      ]
    },
    {
      "cell_type": "code",
      "metadata": {
        "id": "sYtHZQKADK2P",
        "colab_type": "code",
        "colab": {}
      },
      "source": [
        "w6,b6 = model_MGD_CE(train_images, train_labels_6, weight, bias, 0.001, 256, 100)"
      ],
      "execution_count": 0,
      "outputs": []
    },
    {
      "cell_type": "markdown",
      "metadata": {
        "id": "0yW-DsBfbS-4",
        "colab_type": "text"
      },
      "source": [
        "###**Test Data Accuracy Calculation for Category 6**"
      ]
    },
    {
      "cell_type": "code",
      "metadata": {
        "id": "1IB1s_YUbo9r",
        "colab_type": "code",
        "outputId": "6f3dde2b-840b-4bd2-a118-a6dba410c108",
        "colab": {
          "base_uri": "https://localhost:8080/",
          "height": 34
        }
      },
      "source": [
        "z_6=logisticRegression(test_images, w6, b6)\n",
        "pre_6 = sigmoid_binary(sigmoid(z_6))\n",
        "print(\"Testing Accuracy:\",calculateAccuracy(pre_6,test_labels_6))"
      ],
      "execution_count": 0,
      "outputs": [
        {
          "output_type": "stream",
          "text": [
            "Testing Accuracy: 97.28999999999999\n"
          ],
          "name": "stdout"
        }
      ]
    },
    {
      "cell_type": "markdown",
      "metadata": {
        "id": "gnA2u7oYbw27",
        "colab_type": "text"
      },
      "source": [
        "###** Training for Category 7**"
      ]
    },
    {
      "cell_type": "code",
      "metadata": {
        "id": "2ly8w-5EDN9A",
        "colab_type": "code",
        "colab": {}
      },
      "source": [
        "w7,b7 = model_MGD_CE(train_images, train_labels_7, weight, bias, 0.001, 256, 100)"
      ],
      "execution_count": 0,
      "outputs": []
    },
    {
      "cell_type": "markdown",
      "metadata": {
        "id": "FrVGNUvjbp5x",
        "colab_type": "text"
      },
      "source": [
        "###**Test Data Accuracy for Category 7**"
      ]
    },
    {
      "cell_type": "code",
      "metadata": {
        "id": "CzufcEjGbqvs",
        "colab_type": "code",
        "outputId": "a7bddbca-8f67-4d7c-bd86-9df030524b61",
        "colab": {
          "base_uri": "https://localhost:8080/",
          "height": 34
        }
      },
      "source": [
        "z_7=logisticRegression(test_images, w7, b7)\n",
        "pre_7 = sigmoid_binary(sigmoid(z_7))\n",
        "print(\"Testing Accuracy:\",calculateAccuracy(pre_7,test_labels_7))"
      ],
      "execution_count": 0,
      "outputs": [
        {
          "output_type": "stream",
          "text": [
            "Testing Accuracy: 97.23\n"
          ],
          "name": "stdout"
        }
      ]
    },
    {
      "cell_type": "markdown",
      "metadata": {
        "id": "DxXMiQbWbrRu",
        "colab_type": "text"
      },
      "source": [
        "###** Training for Category 8**\n"
      ]
    },
    {
      "cell_type": "code",
      "metadata": {
        "id": "ZmZZeedRDQ5w",
        "colab_type": "code",
        "colab": {}
      },
      "source": [
        "w8,b8 = model_MGD_CE(train_images, train_labels_8, weight, bias, 0.001, 256, 100)"
      ],
      "execution_count": 0,
      "outputs": []
    },
    {
      "cell_type": "markdown",
      "metadata": {
        "id": "566WKDF3bswL",
        "colab_type": "text"
      },
      "source": [
        "###**Test Data Accuracy for Category 8**\n"
      ]
    },
    {
      "cell_type": "code",
      "metadata": {
        "id": "3UbWqM79bs8m",
        "colab_type": "code",
        "outputId": "f57c71d9-97e8-4e9b-fc18-1bf587bd9e45",
        "colab": {
          "base_uri": "https://localhost:8080/",
          "height": 34
        }
      },
      "source": [
        "z_8=logisticRegression(test_images, w8, b8)\n",
        "pre_8 = sigmoid_binary(sigmoid(z_8))\n",
        "print(\"Testing Accuracy:\",calculateAccuracy(pre_8,test_labels_8))"
      ],
      "execution_count": 0,
      "outputs": [
        {
          "output_type": "stream",
          "text": [
            "Testing Accuracy: 93.31\n"
          ],
          "name": "stdout"
        }
      ]
    },
    {
      "cell_type": "markdown",
      "metadata": {
        "id": "egsGRcbDbtGF",
        "colab_type": "text"
      },
      "source": [
        "###**Training for Category 9**"
      ]
    },
    {
      "cell_type": "code",
      "metadata": {
        "id": "U1mS2coJDURb",
        "colab_type": "code",
        "colab": {}
      },
      "source": [
        "w9,b9 = model_MGD_CE(train_images, train_labels_9, weight, bias, 0.001, 256, 100)"
      ],
      "execution_count": 0,
      "outputs": []
    },
    {
      "cell_type": "markdown",
      "metadata": {
        "id": "HtpX3zC0Deck",
        "colab_type": "text"
      },
      "source": [
        "###**Test Data Accuracy for Category 9**"
      ]
    },
    {
      "cell_type": "code",
      "metadata": {
        "id": "X4mKQ6tCEGxn",
        "colab_type": "code",
        "outputId": "094764dc-99be-4130-83a0-229450aebbb6",
        "colab": {
          "base_uri": "https://localhost:8080/",
          "height": 34
        }
      },
      "source": [
        "z_9=logisticRegression(test_images, w9, b9)\n",
        "pre_9 = sigmoid_binary(sigmoid(z_9))\n",
        "print(\"Testing Accuracy:\",calculateAccuracy(pre_9,test_labels_9))"
      ],
      "execution_count": 0,
      "outputs": [
        {
          "output_type": "stream",
          "text": [
            "Testing Accuracy: 94.64\n"
          ],
          "name": "stdout"
        }
      ]
    },
    {
      "cell_type": "markdown",
      "metadata": {
        "id": "a7DkpEkhdpiW",
        "colab_type": "text"
      },
      "source": [
        "##** Problem 3**"
      ]
    },
    {
      "cell_type": "markdown",
      "metadata": {
        "id": "lzvGK91QGLba",
        "colab_type": "text"
      },
      "source": [
        "###**Minibatch Stochastic Gradient Descent Model with Categorical Cross Entropy Loss Method**"
      ]
    },
    {
      "cell_type": "code",
      "metadata": {
        "id": "lsOL1pUHGYD_",
        "colab_type": "code",
        "colab": {}
      },
      "source": [
        "def model_MGD_CCE(train_images, train_labels, weight_cce, bias_cce, alpha, batchsize, epoch):\n",
        "  t = len(train_images)\n",
        "  x = math.ceil(t/batchsize)\n",
        "  start=0\n",
        "  end= start+batchsize\n",
        "  for a in range(1,epoch):\n",
        "    for k in range(0,x):\n",
        "      z = logisticRegression_cce(train_images[start:end], weight_cce, bias_cce)\n",
        "      #print(z.shape)\n",
        "      act_f = softmax(z)\n",
        "      #print(act_f.shape)\n",
        "      weight,bias = optimization_CCE(act_f, train_labels_new[start:end], 1, train_images[start:end],weight_cce,bias_cce, alpha)\n",
        "    start = end\n",
        "    end = end+batchsize\n",
        "    if (end > t):\n",
        "      end = t\n",
        "    #acc = calculateAccuracy(act_f, train_labels[start:end])\n",
        "    #print(\"epoch: \", a, \"Accuracy:\", acc)\n",
        "  return weight,bias"
      ],
      "execution_count": 0,
      "outputs": []
    },
    {
      "cell_type": "markdown",
      "metadata": {
        "id": "Pymup_oyGe0Z",
        "colab_type": "text"
      },
      "source": [
        "###**Training**"
      ]
    },
    {
      "cell_type": "code",
      "metadata": {
        "id": "U0bzKEesGhiK",
        "colab_type": "code",
        "colab": {}
      },
      "source": [
        "w,b = model_MGD_CCE(train_images, train_labels, weight_cce, bias_cce, 0.001, 256, 10)"
      ],
      "execution_count": 0,
      "outputs": []
    },
    {
      "cell_type": "markdown",
      "metadata": {
        "id": "FtDgU4f-Gh5e",
        "colab_type": "text"
      },
      "source": [
        "###**Test Data Accuracy Calculation**\n",
        "My Test Accuracy is 85.57 % when epoch size is 10."
      ]
    },
    {
      "cell_type": "code",
      "metadata": {
        "id": "gO-N2hR8GoAy",
        "colab_type": "code",
        "outputId": "dbec618c-9da1-4c35-b3c6-9fb9237627e9",
        "colab": {
          "base_uri": "https://localhost:8080/",
          "height": 34
        }
      },
      "source": [
        "zz=logisticRegression_cce(test_images, w, b)\n",
        "#print(zz.shape)\n",
        "sof = softmax(zz)\n",
        "#print(sof.shape)\n",
        "prep = np.argmax(sof, axis = 0)\n",
        "#print(prep.shape)\n",
        "print(\"Testing Accuracy:\",calculateAccuracy(prep,test_labels))"
      ],
      "execution_count": 0,
      "outputs": [
        {
          "output_type": "stream",
          "text": [
            "Testing Accuracy: 85.57000000000001\n"
          ],
          "name": "stdout"
        }
      ]
    }
  ]
}